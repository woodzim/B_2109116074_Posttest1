{
  "nbformat": 4,
  "nbformat_minor": 0,
  "metadata": {
    "colab": {
      "provenance": [],
      "collapsed_sections": [
        "m2edIZ4Rzj_Y",
        "Uj2U1K8y-A2J",
        "ezkaX5QbPfNG",
        "5jEZ8lWTQWwG",
        "rNiY6kMdQlqj",
        "2W-0dXGMRm5g"
      ]
    },
    "kernelspec": {
      "name": "python3",
      "display_name": "Python 3"
    },
    "language_info": {
      "name": "python"
    }
  },
  "cells": [
    {
      "cell_type": "markdown",
      "source": [
        "<h1>Posttest Praktikum Sistem Informasi </h1>\n",
        "\n",
        "NIM **2109116074**\n",
        "\n",
        "NAMA **Indra Maulana**\n"
      ],
      "metadata": {
        "id": "W-uS6_66tbij"
      }
    },
    {
      "cell_type": "markdown",
      "source": [
        "## Visualisasi"
      ],
      "metadata": {
        "id": "m2edIZ4Rzj_Y"
      }
    },
    {
      "cell_type": "code",
      "source": [
        "import pandas as pd\n",
        "import seaborn as sns"
      ],
      "metadata": {
        "id": "Zh4KRCmJyErh"
      },
      "execution_count": 5,
      "outputs": []
    },
    {
      "cell_type": "code",
      "execution_count": null,
      "metadata": {
        "id": "gxbjtLI5s8pn"
      },
      "outputs": [],
      "source": [
        "# Buatlah datasetnya disini\n",
        "df = pd.read_csv(\"ChurnBank.csv\")"
      ]
    },
    {
      "cell_type": "markdown",
      "source": [
        "### Business Understanding\n",
        "\n",
        "Sebagai direktur sebuah perusahaan, saya bisa menggunakan dataset churnbank.csv dan algoritma Naive Bayes untuk membantu mengoptimalkan strategi pengambilan keputusan dalam bisnis.\n",
        "\n",
        "Tujuan penggunaan dataset ini adalah untuk memahami perilaku pelanggan dan melihat pola dari pelanggan yang meninggalkan bisnis (churn). Dataset ini mencakup informasi tentang profil pelanggan, seperti jenis kelamin, usia, status pernikahan, pendapatan, dan apakah mereka memiliki kartu kredit, serta informasi tentang kebiasaan transaksi dan aktivitas rekening.\n",
        "\n",
        "Tujuan perusahaan adalah untuk meningkatkan retensi pelanggan dan mengurangi tingkat churn. Dengan memahami faktor-faktor yang memengaruhi keputusan pelanggan untuk meninggalkan bisnis, perusahaan dapat mengambil tindakan yang tepat untuk mempertahankan pelanggan dan mengurangi tingkat churn.\n",
        "\n",
        "Penggunaan algoritma Naive Bayes akan membantu perusahaan dalam memprediksi apakah pelanggan akan churn atau tidak berdasarkan pada data historis dari perilaku pelanggan. Algoritma ini cocok untuk digunakan pada dataset ini karena dataset ini mengandung banyak variabel independen yang dapat memengaruhi tingkat churn. Naive Bayes juga dapat memberikan kemampuan untuk mengidentifikasi variabel mana yang paling penting dalam memprediksi churn sehingga perusahaan dapat mengambil tindakan yang tepat.\n"
      ],
      "metadata": {
        "id": "4zonMQ5M9OxL"
      }
    },
    {
      "cell_type": "markdown",
      "source": [
        "### Data Understanding"
      ],
      "metadata": {
        "id": "Uj2U1K8y-A2J"
      }
    },
    {
      "cell_type": "code",
      "source": [
        "# df1 isinya dataset dengan label target AttiredCustomer\n",
        "# df2 dengan label bukan Attrired customer\n",
        "# df3 dengan tabel untuk usia dibawah 50 tahun\n",
        "# df4 untuk customer yang statusnya itu single\n",
        "\n",
        "df_1 = df[df[\"Attrition_Flag\"]==\"Attrited Customer\"]\n",
        "df_2 = df[df[\"Attrition_Flag\"]!=\"Attrited Customer\"]\n",
        "df_3 = df[df[\"Customer_Age\"]<50]\n",
        "df_4 = df[df[\"Marital_Status\"]==\"Single\"]"
      ],
      "metadata": {
        "id": "fOe_dNgC7ZVp"
      },
      "execution_count": null,
      "outputs": []
    },
    {
      "cell_type": "code",
      "source": [
        "# Tampilkan info dataset (df.info()) dan berikan penjelasannya dalam bentuk teks atau comment\n",
        "(df.info())"
      ],
      "metadata": {
        "id": "vm89zlTTOl4D",
        "colab": {
          "base_uri": "https://localhost:8080/"
        },
        "outputId": "b7a1328f-0272-4ee2-a0b8-06ed58722004"
      },
      "execution_count": null,
      "outputs": [
        {
          "output_type": "stream",
          "name": "stdout",
          "text": [
            "<class 'pandas.core.frame.DataFrame'>\n",
            "RangeIndex: 20 entries, 0 to 19\n",
            "Data columns (total 10 columns):\n",
            " #   Column           Non-Null Count  Dtype  \n",
            "---  ------           --------------  -----  \n",
            " 0   Unnamed: 0       20 non-null     int64  \n",
            " 1   CLIENTNUM        20 non-null     int64  \n",
            " 2   Attrition_Flag   20 non-null     object \n",
            " 3   Customer_Age     20 non-null     int64  \n",
            " 4   Gender           20 non-null     object \n",
            " 5   Education_Level  20 non-null     object \n",
            " 6   Marital_Status   20 non-null     object \n",
            " 7   Income_Category  20 non-null     object \n",
            " 8   Card_Category    20 non-null     object \n",
            " 9   Credit_Limit     20 non-null     float64\n",
            "dtypes: float64(1), int64(3), object(6)\n",
            "memory usage: 1.7+ KB\n"
          ]
        }
      ]
    },
    {
      "cell_type": "markdown",
      "source": [
        "Penjelasan:\n",
        "\n",
        "1. Dataset ini terdiri dari 10 kolom.\n",
        "\n",
        "2. Kolom-kolom tersebut adalah: Unnamed, CLIENTNUM, Attrition_Flag, Customer_Age, Gender, Education_Level, Marital Status, Income_Category, Card_Category, dan Credit_Limit.\n",
        "\n",
        "3. Terdapat tiga tipe data yang berbeda dalam dataset ini, yaitu integer (int64), float (float64), dan object.\n",
        "\n",
        "4. Setiap kolom memiliki 20 nilai non-null, artinya tidak ada nilai yang hilang atau kosong dalam dataset ini.\n",
        "\n",
        "5. Memori yang digunakan oleh dataset ini adalah sekitar 1.7+ KB.\n"
      ],
      "metadata": {
        "id": "lkKWoqaF6chS"
      }
    },
    {
      "cell_type": "code",
      "source": [
        "#@title Opsional (nilai plus)\n",
        "# Tampilkan nilai rata-rata, min,max, dan standar deviasi  untuk setiap kolom bertipe angka\n",
        "numeric_cols = df.select_dtypes(include=['int64', 'float64'])\n",
        "nilai = pd.DataFrame({\n",
        "    'mean': numeric_cols.mean(),\n",
        "    'min': numeric_cols.min(),\n",
        "    'max': numeric_cols.max(),\n",
        "    'std': numeric_cols.std()\n",
        "})\n",
        "# print nilainya\n",
        "print(nilai)"
      ],
      "metadata": {
        "id": "Gk-aiwdCO3Tw"
      },
      "execution_count": null,
      "outputs": []
    },
    {
      "cell_type": "markdown",
      "source": [
        "#### Explore Data"
      ],
      "metadata": {
        "id": "PmPSc7uV_XjV"
      }
    },
    {
      "cell_type": "markdown",
      "source": [
        "##### Visualisasi Comparison"
      ],
      "metadata": {
        "id": "OXfexpup_a6l"
      }
    },
    {
      "cell_type": "code",
      "source": [
        "# Attired Customer dan Existing Customer\n",
        "sns.countplot(data = df,x=\"Attrition_Flag\")"
      ],
      "metadata": {
        "id": "EIVBtry9_W5m"
      },
      "execution_count": null,
      "outputs": []
    },
    {
      "cell_type": "code",
      "source": [
        "# Education level berdasarkan kategori\n",
        "sns.countplot(data = df,x=\"Education_Level\")"
      ],
      "metadata": {
        "id": "UgQPmLrH_lbd"
      },
      "execution_count": null,
      "outputs": []
    },
    {
      "cell_type": "code",
      "source": [
        "# Education level berdasarkan gendernya\n",
        "sns.countplot(x='Education_Level', hue='Gender', data=df)"
      ],
      "metadata": {
        "id": "8Ahhq1TG__7k"
      },
      "execution_count": null,
      "outputs": []
    },
    {
      "cell_type": "markdown",
      "source": [
        "1. Visualisasi Pertama menunjukan Perbandingan pada status atrrition Customer tentang berapa banyak customer yang telah meninggalkan atau berhenti dan yang masih menggunakan produk atau layanan. Dan bisa dilihat pada hasil visualisasi nya menunjukkan banyaknya attrited customer dan existing customer ada pada nilai 10.\n",
        "2. Visualisasi Kedua Menunjukkan banyaknya Kategori pada level edukasi dan banyaknya customer didalam setiap kategori.\n",
        "3. Visualisasi Ketiga Menunjukka banyaknya Laki-laki dan perempuan dalam setiap kategori di level edukasi."
      ],
      "metadata": {
        "id": "l0RDSKIjPMae"
      }
    },
    {
      "cell_type": "markdown",
      "source": [
        "##### Visualisasi Distribution\n"
      ],
      "metadata": {
        "id": "CAFZk0hOAEUT"
      }
    },
    {
      "cell_type": "code",
      "source": [
        "# Historgram untuk umur dan credit card limit\n",
        "sns.histplot(data=df, x='Customer_Age')"
      ],
      "metadata": {
        "id": "RX_wqpm7PPne"
      },
      "execution_count": null,
      "outputs": []
    },
    {
      "cell_type": "code",
      "source": [
        "sns.histplot(data=df, x='Credit_Limit')\n"
      ],
      "metadata": {
        "id": "TpcaXPD3K9rh"
      },
      "execution_count": null,
      "outputs": []
    },
    {
      "cell_type": "code",
      "source": [
        "# Buatlah boxplot untuk umur dan credit card limit\n",
        "sns.boxplot(data = df,x=\"Customer_Age\")\n"
      ],
      "metadata": {
        "id": "IcF_B1HmP7mO"
      },
      "execution_count": null,
      "outputs": []
    },
    {
      "cell_type": "code",
      "source": [
        "sns.boxplot(data = df,x=\"Credit_Limit\")"
      ],
      "metadata": {
        "id": "G4Fnkp4lLUOd"
      },
      "execution_count": null,
      "outputs": []
    },
    {
      "cell_type": "markdown",
      "source": [
        "1. Visualisasi Histogram pertama menunjukkan berapa banyak customer dalam umur umur tertentu.\n",
        "2. Visualisasi Histogram Kedua menunjukkan berapa banyak customer dalam Credit Limit tertentu.\n",
        "3. Visualisasi boxplot Pertama menggambarkan kumpulan data numerik berdasarkan Umur Customer.\n",
        "4. Visualisasi boxplot Kedua menggambarkan kumpulan data numerik berdasarkan Credit Limit Customer."
      ],
      "metadata": {
        "id": "v_TwvSa9P94E"
      }
    },
    {
      "cell_type": "markdown",
      "source": [
        "##### Visualisasi Relationship\n",
        "\n",
        "\n"
      ],
      "metadata": {
        "id": "ezkaX5QbPfNG"
      }
    },
    {
      "cell_type": "code",
      "source": [
        "# Buatlah scatterplot untuk umur customer dan credit card limit\n",
        "sns.scatterplot(data = df,x=\"Customer_Age\",y=\"Credit_Limit\")"
      ],
      "metadata": {
        "id": "y-lzGBWSP3b8"
      },
      "execution_count": null,
      "outputs": []
    },
    {
      "cell_type": "markdown",
      "source": [
        "##### Visualisasi Composition\n",
        "\n",
        "\n"
      ],
      "metadata": {
        "id": "5jEZ8lWTQWwG"
      }
    },
    {
      "cell_type": "code",
      "source": [
        "# Buatlah pieplot untuk Income Category & Education Level\n",
        "import plotly.express as px\n",
        "px.pie(df_2,names=\"Income_Category\")"
      ],
      "metadata": {
        "id": "hjPoni4qQWwH"
      },
      "execution_count": null,
      "outputs": []
    },
    {
      "cell_type": "code",
      "source": [
        "px.pie(df_2,names=\"Education_Level\")"
      ],
      "metadata": {
        "id": "MFhsm5StOVes"
      },
      "execution_count": null,
      "outputs": []
    },
    {
      "cell_type": "markdown",
      "source": [
        "### Opsional (Nilai Plus)"
      ],
      "metadata": {
        "id": "rNiY6kMdQlqj"
      }
    },
    {
      "cell_type": "code",
      "source": [
        "# Buatlah visualisasi boxplot Credit Card Limit dengan Jenis Kelamin sebagai pemisahnya (color)\n",
        "sns.boxplot(data=df, x='Gender', y='Credit_Limit')\n"
      ],
      "metadata": {
        "id": "S5YG0MSeQpKh"
      },
      "execution_count": null,
      "outputs": []
    },
    {
      "cell_type": "code",
      "source": [
        "# Buatlah visualisasi boxplot Credit Card Limit dengan Attrition Flag sebagai pemisahnya (color)\n",
        "sns.boxplot(data=df, x='Attrition_Flag', y='Credit_Limit')"
      ],
      "metadata": {
        "id": "T1b84fGPQ4OZ"
      },
      "execution_count": null,
      "outputs": []
    },
    {
      "cell_type": "code",
      "source": [
        "# Buatlah visualisasi boxplot Age dengan Attrition Flag sebagai pemisahnya (color)\n",
        "sns.boxplot(data=df, x='Attrition_Flag', y='Customer_Age')"
      ],
      "metadata": {
        "id": "9VGH1FdjQ_i4"
      },
      "execution_count": null,
      "outputs": []
    },
    {
      "cell_type": "code",
      "source": [
        "# Buatlah visualisasi countplot  Attrition Flag dengan jenis kelamin sebagai pemisahnya (color)\n",
        "sns.countplot(x='Attrition_Flag', hue='Gender', data=df)"
      ],
      "metadata": {
        "id": "lkh33qRARKup"
      },
      "execution_count": null,
      "outputs": []
    },
    {
      "cell_type": "code",
      "source": [
        "# Buatlah visualisasi heatmap untuk Setiap variabel numerik yang ada\n",
        "numeric_cols = df.select_dtypes(include='number')\n",
        "sns.heatmap(numeric_cols.corr(), annot=True, cmap='coolwarm')"
      ],
      "metadata": {
        "id": "BmcfGNL1Rdb_"
      },
      "execution_count": null,
      "outputs": []
    },
    {
      "cell_type": "markdown",
      "source": [
        "## Algoritma Naive Bayes dan Preprocessing (pengenalan)"
      ],
      "metadata": {
        "id": "2W-0dXGMRm5g"
      }
    },
    {
      "cell_type": "code",
      "source": [
        "# hapus kolom\n",
        "dfnb = pd.read_csv(\"ChurnBank.csv\")\n",
        "dfnb.drop(['Unnamed: 0', 'CLIENTNUM', 'Customer_Age', 'Credit_Limit'], axis=1, inplace=True)\n",
        "# buat dataframe baru\n",
        "df_baru = df.copy()\n",
        "print(df_baru.head())"
      ],
      "metadata": {
        "id": "dr9RJsatR35G",
        "colab": {
          "base_uri": "https://localhost:8080/"
        },
        "outputId": "2dc8cc58-c0a0-45fc-9bcd-179809c3f88f"
      },
      "execution_count": 18,
      "outputs": [
        {
          "output_type": "stream",
          "name": "stdout",
          "text": [
            "  Gender Education_Level Marital_Status Income_Category Card_Category  \\\n",
            "0      M         Unknown         Single     $40K - $60K          Blue   \n",
            "1      M      Uneducated        Married     $60K - $80K          Blue   \n",
            "2      M         College         Single    $80K - $120K          Blue   \n",
            "3      M     High School        Unknown         $120K +          Blue   \n",
            "4      F        Graduate         Single  Less than $40K          Blue   \n",
            "\n",
            "      Attrition_Flag  \n",
            "0  Attrited Customer  \n",
            "1  Attrited Customer  \n",
            "2  Attrited Customer  \n",
            "3  Attrited Customer  \n",
            "4  Attrited Customer  \n"
          ]
        }
      ]
    },
    {
      "cell_type": "code",
      "source": [
        "# Membaca data training\n",
        "df = pd.read_csv(\"ChurnBank.csv\")\n",
        "\n",
        "# Hapus data sesuai ketentuan\n",
        "df = df.drop([\"Unnamed: 0\", \"CLIENTNUM\", \"Customer_Age\", \"Credit_Limit\"], axis=1)\n",
        "\n",
        "# memindah data attrition_flag ke ujung kanan\n",
        "cols = df.columns.tolist()\n",
        "cols.remove('Attrition_Flag')\n",
        "cols.append('Attrition_Flag')\n",
        "df = df[cols]\n",
        "\n",
        "# Menghitung jumlah data training dan data testing\n",
        "N_train = len(df)\n",
        "\n",
        "# Menghitung jumlah kelas target\n",
        "target_counts = df.groupby('Attrition_Flag')['Attrition_Flag'].count()\n",
        "\n",
        "# Menghitung probabilitas priori untuk setiap kelas target\n",
        "prior_prob = target_counts / N_train\n",
        "\n",
        "# Menghitung probabilitas kondisional untuk setiap fitur pada setiap kelas target\n",
        "cond_prob = {}\n",
        "for col in df.columns[:-1]:\n",
        "    cond_prob[col] = {}\n",
        "    for val in df[col].unique():\n",
        "        for target in df['Attrition_Flag'].unique():\n",
        "            count = len(df[(df[col] == val) & (df['Attrition_Flag'] == target)])\n",
        "            cond_prob[col][(val, target)] = count / target_counts[target]\n",
        "\n",
        "# Fungsi Naive Bayes Classifier\n",
        "def naive_bayes(x):\n",
        "    prob_yes = prior_prob['Attrited Customer']\n",
        "    prob_no = prior_prob['Existing Customer']\n",
        "    for i, col in enumerate(df.columns[:-1]):\n",
        "        prob_yes *= cond_prob[col][(x[i], 'Attrited Customer')]\n",
        "        prob_no *= cond_prob[col][(x[i], 'Existing Customer')]\n",
        "    if prob_no > prob_yes:\n",
        "        return ('Existing Customer', prob_no)\n",
        "    else:\n",
        "        return ('Attrited Customer', prob_yes)\n",
        "\n",
        "# Contoh penggunaan fungsi naive_bayes\n",
        "output = naive_bayes([\"F\",\"Uneducated\",\"Single\",\"Unknown\",\"Blue\"])\n",
        "print(\"\\nHASIL =\", output)"
      ],
      "metadata": {
        "id": "2EgdoQwHSasF",
        "colab": {
          "base_uri": "https://localhost:8080/"
        },
        "outputId": "4ba1e1c6-89aa-45d0-e328-be8e4ffce352"
      },
      "execution_count": 19,
      "outputs": [
        {
          "output_type": "stream",
          "name": "stdout",
          "text": [
            "\n",
            "HASIL = ('Existing Customer', 0.0135)\n"
          ]
        }
      ]
    }
  ]
}